{
 "cells": [
  {
   "cell_type": "code",
   "execution_count": 1,
   "id": "6db9d999",
   "metadata": {
    "execution": {
     "iopub.execute_input": "2025-05-25T14:24:39.102157Z",
     "iopub.status.busy": "2025-05-25T14:24:39.101881Z",
     "iopub.status.idle": "2025-05-25T14:24:56.636301Z",
     "shell.execute_reply": "2025-05-25T14:24:56.635617Z"
    },
    "papermill": {
     "duration": 17.540958,
     "end_time": "2025-05-25T14:24:56.637880",
     "exception": false,
     "start_time": "2025-05-25T14:24:39.096922",
     "status": "completed"
    },
    "tags": []
   },
   "outputs": [
    {
     "name": "stdout",
     "output_type": "stream",
     "text": [
      "Collecting split-folders\r\n",
      "  Downloading split_folders-0.5.1-py3-none-any.whl.metadata (6.2 kB)\r\n",
      "Requirement already satisfied: plotly in /usr/local/lib/python3.10/dist-packages (5.24.1)\r\n",
      "Requirement already satisfied: pandas in /usr/local/lib/python3.10/dist-packages (2.2.3)\r\n",
      "Requirement already satisfied: tenacity>=6.2.0 in /usr/local/lib/python3.10/dist-packages (from plotly) (9.0.0)\r\n",
      "Requirement already satisfied: packaging in /usr/local/lib/python3.10/dist-packages (from plotly) (24.2)\r\n",
      "Requirement already satisfied: numpy>=1.22.4 in /usr/local/lib/python3.10/dist-packages (from pandas) (1.26.4)\r\n",
      "Requirement already satisfied: python-dateutil>=2.8.2 in /usr/local/lib/python3.10/dist-packages (from pandas) (2.9.0.post0)\r\n",
      "Requirement already satisfied: pytz>=2020.1 in /usr/local/lib/python3.10/dist-packages (from pandas) (2025.1)\r\n",
      "Requirement already satisfied: tzdata>=2022.7 in /usr/local/lib/python3.10/dist-packages (from pandas) (2025.1)\r\n",
      "Requirement already satisfied: mkl_fft in /usr/local/lib/python3.10/dist-packages (from numpy>=1.22.4->pandas) (1.3.8)\r\n",
      "Requirement already satisfied: mkl_random in /usr/local/lib/python3.10/dist-packages (from numpy>=1.22.4->pandas) (1.2.4)\r\n",
      "Requirement already satisfied: mkl_umath in /usr/local/lib/python3.10/dist-packages (from numpy>=1.22.4->pandas) (0.1.1)\r\n",
      "Requirement already satisfied: mkl in /usr/local/lib/python3.10/dist-packages (from numpy>=1.22.4->pandas) (2025.0.1)\r\n",
      "Requirement already satisfied: tbb4py in /usr/local/lib/python3.10/dist-packages (from numpy>=1.22.4->pandas) (2022.0.0)\r\n",
      "Requirement already satisfied: mkl-service in /usr/local/lib/python3.10/dist-packages (from numpy>=1.22.4->pandas) (2.4.1)\r\n",
      "Requirement already satisfied: six>=1.5 in /usr/local/lib/python3.10/dist-packages (from python-dateutil>=2.8.2->pandas) (1.17.0)\r\n",
      "Requirement already satisfied: intel-openmp>=2024 in /usr/local/lib/python3.10/dist-packages (from mkl->numpy>=1.22.4->pandas) (2024.2.0)\r\n",
      "Requirement already satisfied: tbb==2022.* in /usr/local/lib/python3.10/dist-packages (from mkl->numpy>=1.22.4->pandas) (2022.0.0)\r\n",
      "Requirement already satisfied: tcmlib==1.* in /usr/local/lib/python3.10/dist-packages (from tbb==2022.*->mkl->numpy>=1.22.4->pandas) (1.2.0)\r\n",
      "Requirement already satisfied: intel-cmplr-lib-rt in /usr/local/lib/python3.10/dist-packages (from mkl_umath->numpy>=1.22.4->pandas) (2024.2.0)\r\n",
      "Requirement already satisfied: intel-cmplr-lib-ur==2024.2.0 in /usr/local/lib/python3.10/dist-packages (from intel-openmp>=2024->mkl->numpy>=1.22.4->pandas) (2024.2.0)\r\n",
      "Downloading split_folders-0.5.1-py3-none-any.whl (8.4 kB)\r\n",
      "Installing collected packages: split-folders\r\n",
      "Successfully installed split-folders-0.5.1\r\n"
     ]
    }
   ],
   "source": [
    "!pip install split-folders plotly pandas\n",
    "import os\n",
    "import glob\n",
    "import pathlib\n",
    "import pandas as pd\n",
    "import matplotlib.pyplot as plt\n",
    "import plotly.graph_objects as go\n",
    "import tensorflow as tf\n",
    "from tensorflow.keras import datasets, layers, models, preprocessing\n",
    "from tensorflow.data import Dataset\n",
    "from sklearn.utils.class_weight import compute_class_weight\n",
    "from tensorflow.keras import applications \n",
    "import numpy as np\n",
    "from sklearn.model_selection import ParameterSampler\n",
    "from sklearn.metrics import confusion_matrix, classification_report, accuracy_score\n",
    "import seaborn as sns\n",
    "from tensorflow.keras.applications import DenseNet121 \n",
    "from tensorflow.keras.applications import InceptionResNetV2\n",
    "import splitfolders"
   ]
  },
  {
   "cell_type": "code",
   "execution_count": 2,
   "id": "18315a21",
   "metadata": {
    "execution": {
     "iopub.execute_input": "2025-05-25T14:24:56.646631Z",
     "iopub.status.busy": "2025-05-25T14:24:56.646197Z",
     "iopub.status.idle": "2025-05-25T14:25:10.221666Z",
     "shell.execute_reply": "2025-05-25T14:25:10.220647Z"
    },
    "papermill": {
     "duration": 13.581192,
     "end_time": "2025-05-25T14:25:10.223203",
     "exception": false,
     "start_time": "2025-05-25T14:24:56.642011",
     "status": "completed"
    },
    "tags": []
   },
   "outputs": [
    {
     "name": "stdout",
     "output_type": "stream",
     "text": [
      "Data copied to: /kaggle/working/testdata\n"
     ]
    }
   ],
   "source": [
    "import shutil\n",
    "source_dir = \"/kaggle/input/pet-scans\"\n",
    "destination_dir = \"/kaggle/working/testdata\"\n",
    "\n",
    "# for copying the entire dataset to a writable directory\n",
    "shutil.copytree(source_dir, destination_dir)\n",
    "\n",
    "print(\"Data copied to:\", destination_dir)"
   ]
  },
  {
   "cell_type": "code",
   "execution_count": 3,
   "id": "330032a2",
   "metadata": {
    "execution": {
     "iopub.execute_input": "2025-05-25T14:25:10.231849Z",
     "iopub.status.busy": "2025-05-25T14:25:10.231554Z",
     "iopub.status.idle": "2025-05-25T14:25:10.237309Z",
     "shell.execute_reply": "2025-05-25T14:25:10.236624Z"
    },
    "papermill": {
     "duration": 0.011292,
     "end_time": "2025-05-25T14:25:10.238527",
     "exception": false,
     "start_time": "2025-05-25T14:25:10.227235",
     "status": "completed"
    },
    "tags": []
   },
   "outputs": [
    {
     "name": "stdout",
     "output_type": "stream",
     "text": [
      "Files moved up one level. Directory structure is now compatible with splitfolders.\n"
     ]
    }
   ],
   "source": [
    "import os\n",
    "import shutil\n",
    "\n",
    "data_dir = \"/kaggle/working/testdata\"\n",
    "\n",
    "for root, dirs, files in os.walk(data_dir):\n",
    "    for dir_name in dirs:\n",
    "        subfolder_path = os.path.join(root, dir_name)\n",
    "        for file_name in os.listdir(subfolder_path):\n",
    "            file_path = os.path.join(subfolder_path, file_name)\n",
    "            shutil.move(file_path, root)\n",
    "        os.rmdir(subfolder_path)\n",
    "\n",
    "print(\"Files moved up one level. Directory structure is now compatible with splitfolders.\")"
   ]
  },
  {
   "cell_type": "code",
   "execution_count": 4,
   "id": "04230380",
   "metadata": {
    "execution": {
     "iopub.execute_input": "2025-05-25T14:25:10.246834Z",
     "iopub.status.busy": "2025-05-25T14:25:10.246550Z",
     "iopub.status.idle": "2025-05-25T14:25:10.263784Z",
     "shell.execute_reply": "2025-05-25T14:25:10.263002Z"
    },
    "papermill": {
     "duration": 0.022554,
     "end_time": "2025-05-25T14:25:10.264921",
     "exception": false,
     "start_time": "2025-05-25T14:25:10.242367",
     "status": "completed"
    },
    "tags": []
   },
   "outputs": [
    {
     "name": "stdout",
     "output_type": "stream",
     "text": [
      "Filtered dataset to only include breast and lung cancer.\n"
     ]
    }
   ],
   "source": [
    "selected_classes = [\"breast cancer\", \"prostate cancer\", \"No cancer\"]\n",
    "for folder in os.listdir(destination_dir):\n",
    "    folder_path = os.path.join(destination_dir, folder)\n",
    "    if folder not in selected_classes:\n",
    "        if os.path.isdir(folder_path): \n",
    "            shutil.rmtree(folder_path)\n",
    "        else:\n",
    "            os.remove(folder_path)\n",
    "print(\"Filtered dataset to only include breast and lung cancer.\")"
   ]
  },
  {
   "cell_type": "code",
   "execution_count": 5,
   "id": "ab6f8f94",
   "metadata": {
    "execution": {
     "iopub.execute_input": "2025-05-25T14:25:10.272968Z",
     "iopub.status.busy": "2025-05-25T14:25:10.272748Z",
     "iopub.status.idle": "2025-05-25T14:25:10.600938Z",
     "shell.execute_reply": "2025-05-25T14:25:10.600027Z"
    },
    "papermill": {
     "duration": 0.333692,
     "end_time": "2025-05-25T14:25:10.602354",
     "exception": false,
     "start_time": "2025-05-25T14:25:10.268662",
     "status": "completed"
    },
    "tags": []
   },
   "outputs": [
    {
     "name": "stderr",
     "output_type": "stream",
     "text": [
      "Copying files: 1193 files [00:00, 3775.19 files/s]"
     ]
    },
    {
     "name": "stdout",
     "output_type": "stream",
     "text": [
      "Total number of training images:  1072\n",
      "Total number of validation images:  58\n",
      "Total number of test images:  63\n"
     ]
    },
    {
     "name": "stderr",
     "output_type": "stream",
     "text": [
      "\n"
     ]
    }
   ],
   "source": [
    "import splitfolders\n",
    "import glob\n",
    "\n",
    "data_dir = \"/kaggle/working/testdata\"\n",
    "output_dir = \"/kaggle/working/output\"\n",
    "\n",
    "splitfolders.ratio(data_dir, output=output_dir, seed=101, ratio=(0.9, 0.05, 0.05))\n",
    "\n",
    "train_path = os.path.join(output_dir, 'train')\n",
    "val_path = os.path.join(output_dir, 'val')\n",
    "test_path = os.path.join(output_dir, 'test')\n",
    "\n",
    "train_images = glob.glob(f'{train_path}/*/*')  \n",
    "val_images = glob.glob(f'{val_path}/*/*')      \n",
    "test_images = glob.glob(f'{test_path}/*/*')   \n",
    "\n",
    "print(\"Total number of training images: \", len(train_images))\n",
    "print(\"Total number of validation images: \", len(val_images))\n",
    "print(\"Total number of test images: \", len(test_images))"
   ]
  },
  {
   "cell_type": "code",
   "execution_count": 6,
   "id": "d03d7b7c",
   "metadata": {
    "execution": {
     "iopub.execute_input": "2025-05-25T14:25:10.611852Z",
     "iopub.status.busy": "2025-05-25T14:25:10.611570Z",
     "iopub.status.idle": "2025-05-25T14:25:10.632371Z",
     "shell.execute_reply": "2025-05-25T14:25:10.631544Z"
    },
    "papermill": {
     "duration": 0.026672,
     "end_time": "2025-05-25T14:25:10.633703",
     "exception": false,
     "start_time": "2025-05-25T14:25:10.607031",
     "status": "completed"
    },
    "tags": []
   },
   "outputs": [],
   "source": [
    "import pandas as pd\n",
    "\n",
    "train_df = pd.DataFrame()\n",
    "train_df['Filename'] = pd.Series(train_images).map(lambda img_name: img_name.split(\"/\")[-1])  # Extract filename\n",
    "train_df['ClassId'] = pd.Series(train_images).map(lambda img_name: img_name.split(\"/\")[-2])  # Extract class label\n",
    "\n",
    "test_df = pd.DataFrame()\n",
    "test_df['Filename'] = pd.Series(test_images).map(lambda img_name: img_name.split(\"/\")[-1])  # Extract filename\n",
    "test_df['ClassId'] = pd.Series(test_images).map(lambda img_name: img_name.split(\"/\")[-2])  # Extract class label\n",
    "\n",
    "val_df = pd.DataFrame()\n",
    "val_df['Filename'] = pd.Series(val_images).map(lambda img_name: img_name.split(\"/\")[-1])  # Extract filename\n",
    "val_df['ClassId'] = pd.Series(val_images).map(lambda img_name: img_name.split(\"/\")[-2])  # Extract class label"
   ]
  },
  {
   "cell_type": "code",
   "execution_count": 7,
   "id": "e7ec77b8",
   "metadata": {
    "execution": {
     "iopub.execute_input": "2025-05-25T14:25:10.642242Z",
     "iopub.status.busy": "2025-05-25T14:25:10.642033Z",
     "iopub.status.idle": "2025-05-25T14:25:13.615705Z",
     "shell.execute_reply": "2025-05-25T14:25:13.615033Z"
    },
    "papermill": {
     "duration": 2.979669,
     "end_time": "2025-05-25T14:25:13.617264",
     "exception": false,
     "start_time": "2025-05-25T14:25:10.637595",
     "status": "completed"
    },
    "tags": []
   },
   "outputs": [
    {
     "name": "stdout",
     "output_type": "stream",
     "text": [
      "Found 1072 files belonging to 3 classes.\n",
      "Found 58 files belonging to 3 classes.\n",
      "Found 63 files belonging to 3 classes.\n"
     ]
    }
   ],
   "source": [
    "import tensorflow as tf\n",
    "from tensorflow.keras.preprocessing import image_dataset_from_directory\n",
    "from sklearn.utils.class_weight import compute_class_weight\n",
    "import numpy as np\n",
    "\n",
    "train_data_augmentation = tf.keras.Sequential([\n",
    "    tf.keras.layers.RandomRotation(0.2), \n",
    "    tf.keras.layers.RandomZoom(0.2), \n",
    "    tf.keras.layers.RandomContrast(0.2), \n",
    "    tf.keras.layers.RandomTranslation(0.1, 0.1), \n",
    "    tf.keras.layers.Resizing(224, 224),\n",
    "    tf.keras.layers.Rescaling(1./255),\n",
    "])\n",
    "val_test_preprocessing = tf.keras.Sequential([\n",
    "    tf.keras.layers.Resizing(224, 224),  \n",
    "    tf.keras.layers.Rescaling(1./255),  \n",
    "])\n",
    "\n",
    "train_dataset = image_dataset_from_directory(\n",
    "    train_path,\n",
    "    image_size=(224, 224),\n",
    "    batch_size=16,\n",
    "    label_mode='int',\n",
    "    shuffle=True,\n",
    "    seed=101,\n",
    "    validation_split=None,\n",
    ")\n",
    "\n",
    "val_dataset = image_dataset_from_directory(\n",
    "    val_path,\n",
    "    image_size=(224, 224),\n",
    "    batch_size=16,\n",
    "    label_mode='int',\n",
    "    shuffle=False,\n",
    "    seed=101,\n",
    "    validation_split=None,\n",
    ")\n",
    "\n",
    "test_dataset = image_dataset_from_directory(\n",
    "    test_path,\n",
    "    image_size=(224, 224),\n",
    "    batch_size=16,\n",
    "    label_mode='int',\n",
    "    shuffle=False,\n",
    "    seed=101,\n",
    "    validation_split=None,\n",
    ")\n",
    "\n",
    "class_names = train_dataset.class_names\n",
    "\n",
    "train_dataset = train_dataset.map(lambda x, y: (train_data_augmentation(x, training=True), y))\n",
    "val_dataset = val_dataset.map(lambda x, y: (val_test_preprocessing(x), y))\n",
    "test_dataset = test_dataset.map(lambda x, y: (val_test_preprocessing(x), y))\n",
    "\n",
    "def remove_alpha(image, label):\n",
    "    \"\"\" Ensure images have only 3 channels (RGB). \"\"\"\n",
    "    image = image[:, :, :, :3] \n",
    "    return image, label\n",
    "\n",
    "train_dataset = train_dataset.map(remove_alpha)\n",
    "val_dataset = val_dataset.map(remove_alpha)\n",
    "test_dataset = test_dataset.map(remove_alpha)"
   ]
  },
  {
   "cell_type": "code",
   "execution_count": 8,
   "id": "fbf1be76",
   "metadata": {
    "execution": {
     "iopub.execute_input": "2025-05-25T14:25:13.626635Z",
     "iopub.status.busy": "2025-05-25T14:25:13.626391Z",
     "iopub.status.idle": "2025-05-25T14:25:13.633252Z",
     "shell.execute_reply": "2025-05-25T14:25:13.632551Z"
    },
    "papermill": {
     "duration": 0.012671,
     "end_time": "2025-05-25T14:25:13.634456",
     "exception": false,
     "start_time": "2025-05-25T14:25:13.621785",
     "status": "completed"
    },
    "tags": []
   },
   "outputs": [
    {
     "name": "stdout",
     "output_type": "stream",
     "text": [
      "Train class distribution: {'prostate cancer': 358, 'breast cancer': 333, 'No cancer': 381}\n",
      "Validation class distribution: {'prostate cancer': 19, 'breast cancer': 18, 'No cancer': 21}\n",
      "Test class distribution: {'prostate cancer': 21, 'breast cancer': 20, 'No cancer': 22}\n"
     ]
    }
   ],
   "source": [
    "import os\n",
    "\n",
    "def count_images_in_folders(directory):\n",
    "    \"\"\"Count the number of images in each class folder.\"\"\"\n",
    "    class_counts = {}\n",
    "    for class_name in os.listdir(directory):\n",
    "        class_path = os.path.join(directory, class_name)\n",
    "        if os.path.isdir(class_path):\n",
    "            class_counts[class_name] = len(os.listdir(class_path))\n",
    "    return class_counts\n",
    "\n",
    "print(\"Train class distribution:\", count_images_in_folders(train_path))\n",
    "print(\"Validation class distribution:\", count_images_in_folders(val_path))\n",
    "print(\"Test class distribution:\", count_images_in_folders(test_path))"
   ]
  },
  {
   "cell_type": "code",
   "execution_count": 9,
   "id": "89283b14",
   "metadata": {
    "execution": {
     "iopub.execute_input": "2025-05-25T14:25:13.643520Z",
     "iopub.status.busy": "2025-05-25T14:25:13.643289Z",
     "iopub.status.idle": "2025-05-25T14:25:29.797296Z",
     "shell.execute_reply": "2025-05-25T14:25:29.796248Z"
    },
    "papermill": {
     "duration": 16.16016,
     "end_time": "2025-05-25T14:25:29.798881",
     "exception": false,
     "start_time": "2025-05-25T14:25:13.638721",
     "status": "completed"
    },
    "tags": []
   },
   "outputs": [
    {
     "name": "stdout",
     "output_type": "stream",
     "text": [
      "Class: No cancer, Weight: 0.9379\n",
      "Class: breast cancer, Weight: 1.0731\n",
      "Class: prostate cancer, Weight: 0.9981\n"
     ]
    }
   ],
   "source": [
    "class_labels = np.concatenate([y for x, y in train_dataset], axis=0)\n",
    "class_weights = compute_class_weight('balanced', classes=np.unique(class_labels), y=class_labels)\n",
    "class_weights = dict(enumerate(class_weights))\n",
    "\n",
    "for i, weight in enumerate(class_weights.values()):\n",
    "    print(f\"Class: {class_names[i]}, Weight: {weight:.4f}\")"
   ]
  },
  {
   "cell_type": "code",
   "execution_count": 10,
   "id": "6a9b7bea",
   "metadata": {
    "execution": {
     "iopub.execute_input": "2025-05-25T14:25:29.808343Z",
     "iopub.status.busy": "2025-05-25T14:25:29.808080Z",
     "iopub.status.idle": "2025-05-25T14:25:48.559409Z",
     "shell.execute_reply": "2025-05-25T14:25:48.558711Z"
    },
    "papermill": {
     "duration": 18.757827,
     "end_time": "2025-05-25T14:25:48.561135",
     "exception": false,
     "start_time": "2025-05-25T14:25:29.803308",
     "status": "completed"
    },
    "tags": []
   },
   "outputs": [
    {
     "name": "stdout",
     "output_type": "stream",
     "text": [
      "Downloading data from https://storage.googleapis.com/tensorflow/keras-applications/inception_resnet_v2/inception_resnet_v2_weights_tf_dim_ordering_tf_kernels_notop.h5\n",
      "\u001b[1m219055592/219055592\u001b[0m \u001b[32m━━━━━━━━━━━━━━━━━━━━\u001b[0m\u001b[37m\u001b[0m \u001b[1m9s\u001b[0m 0us/step\n"
     ]
    }
   ],
   "source": [
    "base_model = InceptionResNetV2(include_top=False, input_shape=(224, 224, 3))\n",
    "base_model.load_weights('/kaggle/input/notop-wg-radimagenet/RadImageNet-IRV2_notop.h5')\n",
    "\n",
    "base_model.trainable = False\n",
    "\n",
    "inputs = tf.keras.Input(shape=(224, 224, 3))\n",
    "x = base_model(inputs, training=False)\n",
    "x = layers.GlobalAveragePooling2D()(x)\n",
    "x = layers.Dense(1024, activation='relu', kernel_regularizer=tf.keras.regularizers.l2(0.001))(x)\n",
    "x = layers.Dropout(0.7)(x) \n",
    "num_classes = 3\n",
    "outputs = layers.Dense(3, activation='softmax')(x)\n",
    "\n",
    "model = models.Model(inputs, outputs)"
   ]
  },
  {
   "cell_type": "code",
   "execution_count": 11,
   "id": "f018cf5d",
   "metadata": {
    "execution": {
     "iopub.execute_input": "2025-05-25T14:25:48.584908Z",
     "iopub.status.busy": "2025-05-25T14:25:48.584607Z",
     "iopub.status.idle": "2025-05-25T14:25:48.618381Z",
     "shell.execute_reply": "2025-05-25T14:25:48.617583Z"
    },
    "papermill": {
     "duration": 0.046513,
     "end_time": "2025-05-25T14:25:48.619604",
     "exception": false,
     "start_time": "2025-05-25T14:25:48.573091",
     "status": "completed"
    },
    "tags": []
   },
   "outputs": [
    {
     "data": {
      "text/html": [
       "<pre style=\"white-space:pre;overflow-x:auto;line-height:normal;font-family:Menlo,'DejaVu Sans Mono',consolas,'Courier New',monospace\"><span style=\"font-weight: bold\">Model: \"functional_2\"</span>\n",
       "</pre>\n"
      ],
      "text/plain": [
       "\u001b[1mModel: \"functional_2\"\u001b[0m\n"
      ]
     },
     "metadata": {},
     "output_type": "display_data"
    },
    {
     "data": {
      "text/html": [
       "<pre style=\"white-space:pre;overflow-x:auto;line-height:normal;font-family:Menlo,'DejaVu Sans Mono',consolas,'Courier New',monospace\">┏━━━━━━━━━━━━━━━━━━━━━━━━━━━━━━━━━━━━━━┳━━━━━━━━━━━━━━━━━━━━━━━━━━━━━┳━━━━━━━━━━━━━━━━━┓\n",
       "┃<span style=\"font-weight: bold\"> Layer (type)                         </span>┃<span style=\"font-weight: bold\"> Output Shape                </span>┃<span style=\"font-weight: bold\">         Param # </span>┃\n",
       "┡━━━━━━━━━━━━━━━━━━━━━━━━━━━━━━━━━━━━━━╇━━━━━━━━━━━━━━━━━━━━━━━━━━━━━╇━━━━━━━━━━━━━━━━━┩\n",
       "│ input_layer_3 (<span style=\"color: #0087ff; text-decoration-color: #0087ff\">InputLayer</span>)           │ (<span style=\"color: #00d7ff; text-decoration-color: #00d7ff\">None</span>, <span style=\"color: #00af00; text-decoration-color: #00af00\">224</span>, <span style=\"color: #00af00; text-decoration-color: #00af00\">224</span>, <span style=\"color: #00af00; text-decoration-color: #00af00\">3</span>)         │               <span style=\"color: #00af00; text-decoration-color: #00af00\">0</span> │\n",
       "├──────────────────────────────────────┼─────────────────────────────┼─────────────────┤\n",
       "│ inception_resnet_v2 (<span style=\"color: #0087ff; text-decoration-color: #0087ff\">Functional</span>)     │ (<span style=\"color: #00d7ff; text-decoration-color: #00d7ff\">None</span>, <span style=\"color: #00af00; text-decoration-color: #00af00\">5</span>, <span style=\"color: #00af00; text-decoration-color: #00af00\">5</span>, <span style=\"color: #00af00; text-decoration-color: #00af00\">1536</span>)          │      <span style=\"color: #00af00; text-decoration-color: #00af00\">54,336,736</span> │\n",
       "├──────────────────────────────────────┼─────────────────────────────┼─────────────────┤\n",
       "│ global_average_pooling2d             │ (<span style=\"color: #00d7ff; text-decoration-color: #00d7ff\">None</span>, <span style=\"color: #00af00; text-decoration-color: #00af00\">1536</span>)                │               <span style=\"color: #00af00; text-decoration-color: #00af00\">0</span> │\n",
       "│ (<span style=\"color: #0087ff; text-decoration-color: #0087ff\">GlobalAveragePooling2D</span>)             │                             │                 │\n",
       "├──────────────────────────────────────┼─────────────────────────────┼─────────────────┤\n",
       "│ dense (<span style=\"color: #0087ff; text-decoration-color: #0087ff\">Dense</span>)                        │ (<span style=\"color: #00d7ff; text-decoration-color: #00d7ff\">None</span>, <span style=\"color: #00af00; text-decoration-color: #00af00\">1024</span>)                │       <span style=\"color: #00af00; text-decoration-color: #00af00\">1,573,888</span> │\n",
       "├──────────────────────────────────────┼─────────────────────────────┼─────────────────┤\n",
       "│ dropout (<span style=\"color: #0087ff; text-decoration-color: #0087ff\">Dropout</span>)                    │ (<span style=\"color: #00d7ff; text-decoration-color: #00d7ff\">None</span>, <span style=\"color: #00af00; text-decoration-color: #00af00\">1024</span>)                │               <span style=\"color: #00af00; text-decoration-color: #00af00\">0</span> │\n",
       "├──────────────────────────────────────┼─────────────────────────────┼─────────────────┤\n",
       "│ dense_1 (<span style=\"color: #0087ff; text-decoration-color: #0087ff\">Dense</span>)                      │ (<span style=\"color: #00d7ff; text-decoration-color: #00d7ff\">None</span>, <span style=\"color: #00af00; text-decoration-color: #00af00\">3</span>)                   │           <span style=\"color: #00af00; text-decoration-color: #00af00\">3,075</span> │\n",
       "└──────────────────────────────────────┴─────────────────────────────┴─────────────────┘\n",
       "</pre>\n"
      ],
      "text/plain": [
       "┏━━━━━━━━━━━━━━━━━━━━━━━━━━━━━━━━━━━━━━┳━━━━━━━━━━━━━━━━━━━━━━━━━━━━━┳━━━━━━━━━━━━━━━━━┓\n",
       "┃\u001b[1m \u001b[0m\u001b[1mLayer (type)                        \u001b[0m\u001b[1m \u001b[0m┃\u001b[1m \u001b[0m\u001b[1mOutput Shape               \u001b[0m\u001b[1m \u001b[0m┃\u001b[1m \u001b[0m\u001b[1m        Param #\u001b[0m\u001b[1m \u001b[0m┃\n",
       "┡━━━━━━━━━━━━━━━━━━━━━━━━━━━━━━━━━━━━━━╇━━━━━━━━━━━━━━━━━━━━━━━━━━━━━╇━━━━━━━━━━━━━━━━━┩\n",
       "│ input_layer_3 (\u001b[38;5;33mInputLayer\u001b[0m)           │ (\u001b[38;5;45mNone\u001b[0m, \u001b[38;5;34m224\u001b[0m, \u001b[38;5;34m224\u001b[0m, \u001b[38;5;34m3\u001b[0m)         │               \u001b[38;5;34m0\u001b[0m │\n",
       "├──────────────────────────────────────┼─────────────────────────────┼─────────────────┤\n",
       "│ inception_resnet_v2 (\u001b[38;5;33mFunctional\u001b[0m)     │ (\u001b[38;5;45mNone\u001b[0m, \u001b[38;5;34m5\u001b[0m, \u001b[38;5;34m5\u001b[0m, \u001b[38;5;34m1536\u001b[0m)          │      \u001b[38;5;34m54,336,736\u001b[0m │\n",
       "├──────────────────────────────────────┼─────────────────────────────┼─────────────────┤\n",
       "│ global_average_pooling2d             │ (\u001b[38;5;45mNone\u001b[0m, \u001b[38;5;34m1536\u001b[0m)                │               \u001b[38;5;34m0\u001b[0m │\n",
       "│ (\u001b[38;5;33mGlobalAveragePooling2D\u001b[0m)             │                             │                 │\n",
       "├──────────────────────────────────────┼─────────────────────────────┼─────────────────┤\n",
       "│ dense (\u001b[38;5;33mDense\u001b[0m)                        │ (\u001b[38;5;45mNone\u001b[0m, \u001b[38;5;34m1024\u001b[0m)                │       \u001b[38;5;34m1,573,888\u001b[0m │\n",
       "├──────────────────────────────────────┼─────────────────────────────┼─────────────────┤\n",
       "│ dropout (\u001b[38;5;33mDropout\u001b[0m)                    │ (\u001b[38;5;45mNone\u001b[0m, \u001b[38;5;34m1024\u001b[0m)                │               \u001b[38;5;34m0\u001b[0m │\n",
       "├──────────────────────────────────────┼─────────────────────────────┼─────────────────┤\n",
       "│ dense_1 (\u001b[38;5;33mDense\u001b[0m)                      │ (\u001b[38;5;45mNone\u001b[0m, \u001b[38;5;34m3\u001b[0m)                   │           \u001b[38;5;34m3,075\u001b[0m │\n",
       "└──────────────────────────────────────┴─────────────────────────────┴─────────────────┘\n"
      ]
     },
     "metadata": {},
     "output_type": "display_data"
    },
    {
     "data": {
      "text/html": [
       "<pre style=\"white-space:pre;overflow-x:auto;line-height:normal;font-family:Menlo,'DejaVu Sans Mono',consolas,'Courier New',monospace\"><span style=\"font-weight: bold\"> Total params: </span><span style=\"color: #00af00; text-decoration-color: #00af00\">55,913,699</span> (213.29 MB)\n",
       "</pre>\n"
      ],
      "text/plain": [
       "\u001b[1m Total params: \u001b[0m\u001b[38;5;34m55,913,699\u001b[0m (213.29 MB)\n"
      ]
     },
     "metadata": {},
     "output_type": "display_data"
    },
    {
     "data": {
      "text/html": [
       "<pre style=\"white-space:pre;overflow-x:auto;line-height:normal;font-family:Menlo,'DejaVu Sans Mono',consolas,'Courier New',monospace\"><span style=\"font-weight: bold\"> Trainable params: </span><span style=\"color: #00af00; text-decoration-color: #00af00\">1,576,963</span> (6.02 MB)\n",
       "</pre>\n"
      ],
      "text/plain": [
       "\u001b[1m Trainable params: \u001b[0m\u001b[38;5;34m1,576,963\u001b[0m (6.02 MB)\n"
      ]
     },
     "metadata": {},
     "output_type": "display_data"
    },
    {
     "data": {
      "text/html": [
       "<pre style=\"white-space:pre;overflow-x:auto;line-height:normal;font-family:Menlo,'DejaVu Sans Mono',consolas,'Courier New',monospace\"><span style=\"font-weight: bold\"> Non-trainable params: </span><span style=\"color: #00af00; text-decoration-color: #00af00\">54,336,736</span> (207.28 MB)\n",
       "</pre>\n"
      ],
      "text/plain": [
       "\u001b[1m Non-trainable params: \u001b[0m\u001b[38;5;34m54,336,736\u001b[0m (207.28 MB)\n"
      ]
     },
     "metadata": {},
     "output_type": "display_data"
    }
   ],
   "source": [
    "model.summary()"
   ]
  },
  {
   "cell_type": "code",
   "execution_count": 12,
   "id": "c10500ca",
   "metadata": {
    "execution": {
     "iopub.execute_input": "2025-05-25T14:25:48.642831Z",
     "iopub.status.busy": "2025-05-25T14:25:48.642573Z",
     "iopub.status.idle": "2025-05-25T14:25:48.646121Z",
     "shell.execute_reply": "2025-05-25T14:25:48.645351Z"
    },
    "papermill": {
     "duration": 0.016482,
     "end_time": "2025-05-25T14:25:48.647348",
     "exception": false,
     "start_time": "2025-05-25T14:25:48.630866",
     "status": "completed"
    },
    "tags": []
   },
   "outputs": [
    {
     "name": "stdout",
     "output_type": "stream",
     "text": [
      "(None, 3)\n"
     ]
    }
   ],
   "source": [
    "print(model.output_shape)"
   ]
  },
  {
   "cell_type": "code",
   "execution_count": 13,
   "id": "04fe3eb0",
   "metadata": {
    "execution": {
     "iopub.execute_input": "2025-05-25T14:25:48.670624Z",
     "iopub.status.busy": "2025-05-25T14:25:48.670424Z",
     "iopub.status.idle": "2025-05-25T14:25:48.675409Z",
     "shell.execute_reply": "2025-05-25T14:25:48.674750Z"
    },
    "papermill": {
     "duration": 0.017659,
     "end_time": "2025-05-25T14:25:48.676465",
     "exception": false,
     "start_time": "2025-05-25T14:25:48.658806",
     "status": "completed"
    },
    "tags": []
   },
   "outputs": [],
   "source": [
    "import tensorflow as tf\n",
    "\n",
    "def focal_loss(alpha=[0.5, 0.3, 0.2], gamma=2.0):\n",
    "    def loss(y_true, y_pred):\n",
    "        y_true = tf.one_hot(tf.cast(y_true, tf.int32), depth=tf.shape(y_pred)[-1])\n",
    "        y_true = tf.cast(y_true, y_pred.dtype)\n",
    "\n",
    "        y_pred = tf.clip_by_value(y_pred, 1e-7, 1 - 1e-7)\n",
    "\n",
    "        alpha_t = tf.convert_to_tensor(alpha, dtype=y_pred.dtype)\n",
    "        alpha_t = tf.reshape(alpha_t, (1, -1)) \n",
    "\n",
    "        focal_loss_pos = -y_true * alpha_t * tf.pow(1 - y_pred, gamma) * tf.math.log(y_pred)\n",
    "        focal_loss_neg = -(1 - y_true) * (1 - alpha_t) * tf.pow(y_pred, gamma) * tf.math.log(1 - y_pred)\n",
    "        focal_loss_total = focal_loss_pos + focal_loss_neg\n",
    "\n",
    "        return tf.reduce_mean(focal_loss_total)\n",
    "\n",
    "    return loss\n"
   ]
  },
  {
   "cell_type": "code",
   "execution_count": 14,
   "id": "e9a4d881",
   "metadata": {
    "execution": {
     "iopub.execute_input": "2025-05-25T14:25:48.699163Z",
     "iopub.status.busy": "2025-05-25T14:25:48.698961Z",
     "iopub.status.idle": "2025-05-25T14:40:53.118508Z",
     "shell.execute_reply": "2025-05-25T14:40:53.117697Z"
    },
    "papermill": {
     "duration": 904.432329,
     "end_time": "2025-05-25T14:40:53.119863",
     "exception": false,
     "start_time": "2025-05-25T14:25:48.687534",
     "status": "completed"
    },
    "tags": []
   },
   "outputs": [
    {
     "name": "stdout",
     "output_type": "stream",
     "text": [
      "\n",
      "Epoch 1: LearningRateScheduler setting learning rate to 5e-05.\n",
      "Epoch 1/50\n",
      "\u001b[1m67/67\u001b[0m \u001b[32m━━━━━━━━━━━━━━━━━━━━\u001b[0m\u001b[37m\u001b[0m \u001b[1m58s\u001b[0m 465ms/step - accuracy: 0.3898 - loss: 1.2590 - val_accuracy: 0.6552 - val_loss: 1.1096 - learning_rate: 5.0000e-05\n",
      "\n",
      "Epoch 2: LearningRateScheduler setting learning rate to 5e-05.\n",
      "Epoch 2/50\n",
      "\u001b[1m67/67\u001b[0m \u001b[32m━━━━━━━━━━━━━━━━━━━━\u001b[0m\u001b[37m\u001b[0m \u001b[1m17s\u001b[0m 251ms/step - accuracy: 0.5773 - loss: 1.0732 - val_accuracy: 0.6379 - val_loss: 0.9526 - learning_rate: 5.0000e-05\n",
      "\n",
      "Epoch 3: LearningRateScheduler setting learning rate to 5e-05.\n",
      "Epoch 3/50\n",
      "\u001b[1m67/67\u001b[0m \u001b[32m━━━━━━━━━━━━━━━━━━━━\u001b[0m\u001b[37m\u001b[0m \u001b[1m17s\u001b[0m 249ms/step - accuracy: 0.6426 - loss: 0.9190 - val_accuracy: 0.6724 - val_loss: 0.8229 - learning_rate: 5.0000e-05\n",
      "\n",
      "Epoch 4: LearningRateScheduler setting learning rate to 5e-05.\n",
      "Epoch 4/50\n",
      "\u001b[1m67/67\u001b[0m \u001b[32m━━━━━━━━━━━━━━━━━━━━\u001b[0m\u001b[37m\u001b[0m \u001b[1m17s\u001b[0m 250ms/step - accuracy: 0.6254 - loss: 0.7959 - val_accuracy: 0.6724 - val_loss: 0.7125 - learning_rate: 5.0000e-05\n",
      "\n",
      "Epoch 5: LearningRateScheduler setting learning rate to 5e-05.\n",
      "Epoch 5/50\n",
      "\u001b[1m67/67\u001b[0m \u001b[32m━━━━━━━━━━━━━━━━━━━━\u001b[0m\u001b[37m\u001b[0m \u001b[1m17s\u001b[0m 251ms/step - accuracy: 0.6349 - loss: 0.6908 - val_accuracy: 0.6724 - val_loss: 0.6202 - learning_rate: 5.0000e-05\n",
      "\n",
      "Epoch 6: LearningRateScheduler setting learning rate to 0.0001.\n",
      "Epoch 6/50\n",
      "\u001b[1m67/67\u001b[0m \u001b[32m━━━━━━━━━━━━━━━━━━━━\u001b[0m\u001b[37m\u001b[0m \u001b[1m17s\u001b[0m 247ms/step - accuracy: 0.6504 - loss: 0.5814 - val_accuracy: 0.6379 - val_loss: 0.4777 - learning_rate: 1.0000e-04\n",
      "\n",
      "Epoch 7: LearningRateScheduler setting learning rate to 0.0001.\n",
      "Epoch 7/50\n",
      "\u001b[1m67/67\u001b[0m \u001b[32m━━━━━━━━━━━━━━━━━━━━\u001b[0m\u001b[37m\u001b[0m \u001b[1m17s\u001b[0m 251ms/step - accuracy: 0.6574 - loss: 0.4503 - val_accuracy: 0.6897 - val_loss: 0.3782 - learning_rate: 1.0000e-04\n",
      "\n",
      "Epoch 8: LearningRateScheduler setting learning rate to 0.0001.\n",
      "Epoch 8/50\n",
      "\u001b[1m67/67\u001b[0m \u001b[32m━━━━━━━━━━━━━━━━━━━━\u001b[0m\u001b[37m\u001b[0m \u001b[1m17s\u001b[0m 250ms/step - accuracy: 0.6710 - loss: 0.3575 - val_accuracy: 0.6552 - val_loss: 0.3077 - learning_rate: 1.0000e-04\n",
      "\n",
      "Epoch 9: LearningRateScheduler setting learning rate to 0.0001.\n",
      "Epoch 9/50\n",
      "\u001b[1m67/67\u001b[0m \u001b[32m━━━━━━━━━━━━━━━━━━━━\u001b[0m\u001b[37m\u001b[0m \u001b[1m17s\u001b[0m 251ms/step - accuracy: 0.6645 - loss: 0.2934 - val_accuracy: 0.6724 - val_loss: 0.2574 - learning_rate: 1.0000e-04\n",
      "\n",
      "Epoch 10: LearningRateScheduler setting learning rate to 0.0001.\n",
      "Epoch 10/50\n",
      "\u001b[1m67/67\u001b[0m \u001b[32m━━━━━━━━━━━━━━━━━━━━\u001b[0m\u001b[37m\u001b[0m \u001b[1m17s\u001b[0m 247ms/step - accuracy: 0.6974 - loss: 0.2457 - val_accuracy: 0.7069 - val_loss: 0.2211 - learning_rate: 1.0000e-04\n",
      "\n",
      "Epoch 11: LearningRateScheduler setting learning rate to 0.0001.\n",
      "Epoch 11/50\n",
      "\u001b[1m67/67\u001b[0m \u001b[32m━━━━━━━━━━━━━━━━━━━━\u001b[0m\u001b[37m\u001b[0m \u001b[1m17s\u001b[0m 254ms/step - accuracy: 0.6718 - loss: 0.2150 - val_accuracy: 0.6897 - val_loss: 0.1943 - learning_rate: 1.0000e-04\n",
      "\n",
      "Epoch 12: LearningRateScheduler setting learning rate to 0.0001.\n",
      "Epoch 12/50\n",
      "\u001b[1m67/67\u001b[0m \u001b[32m━━━━━━━━━━━━━━━━━━━━\u001b[0m\u001b[37m\u001b[0m \u001b[1m17s\u001b[0m 250ms/step - accuracy: 0.6673 - loss: 0.1890 - val_accuracy: 0.6724 - val_loss: 0.1745 - learning_rate: 1.0000e-04\n",
      "\n",
      "Epoch 13: LearningRateScheduler setting learning rate to 0.0001.\n",
      "Epoch 13/50\n",
      "\u001b[1m67/67\u001b[0m \u001b[32m━━━━━━━━━━━━━━━━━━━━\u001b[0m\u001b[37m\u001b[0m \u001b[1m17s\u001b[0m 250ms/step - accuracy: 0.6938 - loss: 0.1697 - val_accuracy: 0.7069 - val_loss: 0.1588 - learning_rate: 1.0000e-04\n",
      "\n",
      "Epoch 14: LearningRateScheduler setting learning rate to 0.0001.\n",
      "Epoch 14/50\n",
      "\u001b[1m67/67\u001b[0m \u001b[32m━━━━━━━━━━━━━━━━━━━━\u001b[0m\u001b[37m\u001b[0m \u001b[1m17s\u001b[0m 251ms/step - accuracy: 0.6769 - loss: 0.1565 - val_accuracy: 0.7414 - val_loss: 0.1475 - learning_rate: 1.0000e-04\n",
      "\n",
      "Epoch 15: LearningRateScheduler setting learning rate to 0.0001.\n",
      "Epoch 15/50\n",
      "\u001b[1m67/67\u001b[0m \u001b[32m━━━━━━━━━━━━━━━━━━━━\u001b[0m\u001b[37m\u001b[0m \u001b[1m17s\u001b[0m 251ms/step - accuracy: 0.6971 - loss: 0.1440 - val_accuracy: 0.6724 - val_loss: 0.1367 - learning_rate: 1.0000e-04\n",
      "\n",
      "Epoch 16: LearningRateScheduler setting learning rate to 5e-05.\n",
      "Epoch 16/50\n",
      "\u001b[1m67/67\u001b[0m \u001b[32m━━━━━━━━━━━━━━━━━━━━\u001b[0m\u001b[37m\u001b[0m \u001b[1m17s\u001b[0m 250ms/step - accuracy: 0.6767 - loss: 0.1369 - val_accuracy: 0.7241 - val_loss: 0.1334 - learning_rate: 5.0000e-05\n",
      "\n",
      "Epoch 17: LearningRateScheduler setting learning rate to 5e-05.\n",
      "Epoch 17/50\n",
      "\u001b[1m67/67\u001b[0m \u001b[32m━━━━━━━━━━━━━━━━━━━━\u001b[0m\u001b[37m\u001b[0m \u001b[1m17s\u001b[0m 250ms/step - accuracy: 0.6895 - loss: 0.1302 - val_accuracy: 0.7069 - val_loss: 0.1297 - learning_rate: 5.0000e-05\n",
      "\n",
      "Epoch 18: LearningRateScheduler setting learning rate to 5e-05.\n",
      "Epoch 18/50\n",
      "\u001b[1m67/67\u001b[0m \u001b[32m━━━━━━━━━━━━━━━━━━━━\u001b[0m\u001b[37m\u001b[0m \u001b[1m17s\u001b[0m 251ms/step - accuracy: 0.7187 - loss: 0.1248 - val_accuracy: 0.7069 - val_loss: 0.1248 - learning_rate: 5.0000e-05\n",
      "\n",
      "Epoch 19: LearningRateScheduler setting learning rate to 5e-05.\n",
      "Epoch 19/50\n",
      "\u001b[1m67/67\u001b[0m \u001b[32m━━━━━━━━━━━━━━━━━━━━\u001b[0m\u001b[37m\u001b[0m \u001b[1m17s\u001b[0m 248ms/step - accuracy: 0.6816 - loss: 0.1243 - val_accuracy: 0.6552 - val_loss: 0.1218 - learning_rate: 5.0000e-05\n",
      "\n",
      "Epoch 20: LearningRateScheduler setting learning rate to 5e-05.\n",
      "Epoch 20/50\n",
      "\u001b[1m67/67\u001b[0m \u001b[32m━━━━━━━━━━━━━━━━━━━━\u001b[0m\u001b[37m\u001b[0m \u001b[1m21s\u001b[0m 252ms/step - accuracy: 0.7118 - loss: 0.1208 - val_accuracy: 0.7241 - val_loss: 0.1180 - learning_rate: 5.0000e-05\n",
      "\n",
      "Epoch 21: LearningRateScheduler setting learning rate to 5e-05.\n",
      "Epoch 21/50\n",
      "\u001b[1m67/67\u001b[0m \u001b[32m━━━━━━━━━━━━━━━━━━━━\u001b[0m\u001b[37m\u001b[0m \u001b[1m17s\u001b[0m 247ms/step - accuracy: 0.6972 - loss: 0.1155 - val_accuracy: 0.7414 - val_loss: 0.1152 - learning_rate: 5.0000e-05\n",
      "\n",
      "Epoch 22: LearningRateScheduler setting learning rate to 5e-05.\n",
      "Epoch 22/50\n",
      "\u001b[1m67/67\u001b[0m \u001b[32m━━━━━━━━━━━━━━━━━━━━\u001b[0m\u001b[37m\u001b[0m \u001b[1m17s\u001b[0m 250ms/step - accuracy: 0.6799 - loss: 0.1153 - val_accuracy: 0.7069 - val_loss: 0.1117 - learning_rate: 5.0000e-05\n",
      "\n",
      "Epoch 23: LearningRateScheduler setting learning rate to 5e-05.\n",
      "Epoch 23/50\n",
      "\u001b[1m67/67\u001b[0m \u001b[32m━━━━━━━━━━━━━━━━━━━━\u001b[0m\u001b[37m\u001b[0m \u001b[1m17s\u001b[0m 248ms/step - accuracy: 0.6788 - loss: 0.1115 - val_accuracy: 0.7069 - val_loss: 0.1103 - learning_rate: 5.0000e-05\n",
      "\n",
      "Epoch 24: LearningRateScheduler setting learning rate to 5e-05.\n",
      "Epoch 24/50\n",
      "\u001b[1m67/67\u001b[0m \u001b[32m━━━━━━━━━━━━━━━━━━━━\u001b[0m\u001b[37m\u001b[0m \u001b[1m17s\u001b[0m 250ms/step - accuracy: 0.6895 - loss: 0.1091 - val_accuracy: 0.7241 - val_loss: 0.1076 - learning_rate: 5.0000e-05\n",
      "\n",
      "Epoch 25: LearningRateScheduler setting learning rate to 5e-05.\n",
      "Epoch 25/50\n",
      "\u001b[1m67/67\u001b[0m \u001b[32m━━━━━━━━━━━━━━━━━━━━\u001b[0m\u001b[37m\u001b[0m \u001b[1m17s\u001b[0m 248ms/step - accuracy: 0.7058 - loss: 0.1056 - val_accuracy: 0.6897 - val_loss: 0.1047 - learning_rate: 5.0000e-05\n",
      "\n",
      "Epoch 26: LearningRateScheduler setting learning rate to 1e-05.\n",
      "Epoch 26/50\n",
      "\u001b[1m67/67\u001b[0m \u001b[32m━━━━━━━━━━━━━━━━━━━━\u001b[0m\u001b[37m\u001b[0m \u001b[1m17s\u001b[0m 252ms/step - accuracy: 0.7020 - loss: 0.1042 - val_accuracy: 0.7241 - val_loss: 0.1042 - learning_rate: 1.0000e-05\n",
      "\n",
      "Epoch 27: LearningRateScheduler setting learning rate to 1e-05.\n",
      "Epoch 27/50\n",
      "\u001b[1m67/67\u001b[0m \u001b[32m━━━━━━━━━━━━━━━━━━━━\u001b[0m\u001b[37m\u001b[0m \u001b[1m17s\u001b[0m 248ms/step - accuracy: 0.7245 - loss: 0.1037 - val_accuracy: 0.7069 - val_loss: 0.1037 - learning_rate: 1.0000e-05\n",
      "\n",
      "Epoch 28: LearningRateScheduler setting learning rate to 1e-05.\n",
      "Epoch 28/50\n",
      "\u001b[1m67/67\u001b[0m \u001b[32m━━━━━━━━━━━━━━━━━━━━\u001b[0m\u001b[37m\u001b[0m \u001b[1m17s\u001b[0m 250ms/step - accuracy: 0.7097 - loss: 0.1026 - val_accuracy: 0.7241 - val_loss: 0.1035 - learning_rate: 1.0000e-05\n",
      "\n",
      "Epoch 29: LearningRateScheduler setting learning rate to 1e-05.\n",
      "Epoch 29/50\n",
      "\u001b[1m67/67\u001b[0m \u001b[32m━━━━━━━━━━━━━━━━━━━━\u001b[0m\u001b[37m\u001b[0m \u001b[1m21s\u001b[0m 251ms/step - accuracy: 0.7118 - loss: 0.1029 - val_accuracy: 0.7241 - val_loss: 0.1026 - learning_rate: 1.0000e-05\n",
      "\n",
      "Epoch 30: LearningRateScheduler setting learning rate to 1e-05.\n",
      "Epoch 30/50\n",
      "\u001b[1m67/67\u001b[0m \u001b[32m━━━━━━━━━━━━━━━━━━━━\u001b[0m\u001b[37m\u001b[0m \u001b[1m17s\u001b[0m 248ms/step - accuracy: 0.7107 - loss: 0.1025 - val_accuracy: 0.7414 - val_loss: 0.1021 - learning_rate: 1.0000e-05\n",
      "\n",
      "Epoch 31: LearningRateScheduler setting learning rate to 1e-05.\n",
      "Epoch 31/50\n",
      "\u001b[1m67/67\u001b[0m \u001b[32m━━━━━━━━━━━━━━━━━━━━\u001b[0m\u001b[37m\u001b[0m \u001b[1m17s\u001b[0m 251ms/step - accuracy: 0.7322 - loss: 0.1004 - val_accuracy: 0.7241 - val_loss: 0.1017 - learning_rate: 1.0000e-05\n",
      "\n",
      "Epoch 32: LearningRateScheduler setting learning rate to 1e-05.\n",
      "Epoch 32/50\n",
      "\u001b[1m67/67\u001b[0m \u001b[32m━━━━━━━━━━━━━━━━━━━━\u001b[0m\u001b[37m\u001b[0m \u001b[1m17s\u001b[0m 251ms/step - accuracy: 0.7030 - loss: 0.1024 - val_accuracy: 0.7414 - val_loss: 0.1011 - learning_rate: 1.0000e-05\n",
      "\n",
      "Epoch 33: LearningRateScheduler setting learning rate to 1e-05.\n",
      "Epoch 33/50\n",
      "\u001b[1m67/67\u001b[0m \u001b[32m━━━━━━━━━━━━━━━━━━━━\u001b[0m\u001b[37m\u001b[0m \u001b[1m17s\u001b[0m 250ms/step - accuracy: 0.7193 - loss: 0.0994 - val_accuracy: 0.7241 - val_loss: 0.1007 - learning_rate: 1.0000e-05\n",
      "\n",
      "Epoch 34: LearningRateScheduler setting learning rate to 1e-05.\n",
      "Epoch 34/50\n",
      "\u001b[1m67/67\u001b[0m \u001b[32m━━━━━━━━━━━━━━━━━━━━\u001b[0m\u001b[37m\u001b[0m \u001b[1m17s\u001b[0m 250ms/step - accuracy: 0.7055 - loss: 0.0996 - val_accuracy: 0.7414 - val_loss: 0.1001 - learning_rate: 1.0000e-05\n",
      "\n",
      "Epoch 35: LearningRateScheduler setting learning rate to 1e-05.\n",
      "Epoch 35/50\n",
      "\u001b[1m67/67\u001b[0m \u001b[32m━━━━━━━━━━━━━━━━━━━━\u001b[0m\u001b[37m\u001b[0m \u001b[1m17s\u001b[0m 253ms/step - accuracy: 0.7100 - loss: 0.0991 - val_accuracy: 0.7241 - val_loss: 0.0994 - learning_rate: 1.0000e-05\n",
      "\n",
      "Epoch 36: LearningRateScheduler setting learning rate to 1e-05.\n",
      "Epoch 36/50\n",
      "\u001b[1m67/67\u001b[0m \u001b[32m━━━━━━━━━━━━━━━━━━━━\u001b[0m\u001b[37m\u001b[0m \u001b[1m17s\u001b[0m 250ms/step - accuracy: 0.7086 - loss: 0.0981 - val_accuracy: 0.7241 - val_loss: 0.0994 - learning_rate: 1.0000e-05\n",
      "\n",
      "Epoch 37: LearningRateScheduler setting learning rate to 1e-05.\n",
      "Epoch 37/50\n",
      "\u001b[1m67/67\u001b[0m \u001b[32m━━━━━━━━━━━━━━━━━━━━\u001b[0m\u001b[37m\u001b[0m \u001b[1m17s\u001b[0m 248ms/step - accuracy: 0.7262 - loss: 0.0976 - val_accuracy: 0.7414 - val_loss: 0.0991 - learning_rate: 1.0000e-05\n",
      "\n",
      "Epoch 38: LearningRateScheduler setting learning rate to 1e-05.\n",
      "Epoch 38/50\n",
      "\u001b[1m67/67\u001b[0m \u001b[32m━━━━━━━━━━━━━━━━━━━━\u001b[0m\u001b[37m\u001b[0m \u001b[1m17s\u001b[0m 250ms/step - accuracy: 0.7148 - loss: 0.0971 - val_accuracy: 0.7414 - val_loss: 0.0981 - learning_rate: 1.0000e-05\n",
      "\n",
      "Epoch 39: LearningRateScheduler setting learning rate to 1e-05.\n",
      "Epoch 39/50\n",
      "\u001b[1m67/67\u001b[0m \u001b[32m━━━━━━━━━━━━━━━━━━━━\u001b[0m\u001b[37m\u001b[0m \u001b[1m17s\u001b[0m 252ms/step - accuracy: 0.6958 - loss: 0.0986 - val_accuracy: 0.7414 - val_loss: 0.0978 - learning_rate: 1.0000e-05\n",
      "\n",
      "Epoch 40: LearningRateScheduler setting learning rate to 1e-05.\n",
      "Epoch 40/50\n",
      "\u001b[1m67/67\u001b[0m \u001b[32m━━━━━━━━━━━━━━━━━━━━\u001b[0m\u001b[37m\u001b[0m \u001b[1m17s\u001b[0m 248ms/step - accuracy: 0.7048 - loss: 0.0986 - val_accuracy: 0.7241 - val_loss: 0.0972 - learning_rate: 1.0000e-05\n",
      "\n",
      "Epoch 41: LearningRateScheduler setting learning rate to 1e-05.\n",
      "Epoch 41/50\n",
      "\u001b[1m67/67\u001b[0m \u001b[32m━━━━━━━━━━━━━━━━━━━━\u001b[0m\u001b[37m\u001b[0m \u001b[1m17s\u001b[0m 251ms/step - accuracy: 0.7275 - loss: 0.0962 - val_accuracy: 0.7414 - val_loss: 0.0971 - learning_rate: 1.0000e-05\n",
      "\n",
      "Epoch 42: LearningRateScheduler setting learning rate to 1e-05.\n",
      "Epoch 42/50\n",
      "\u001b[1m67/67\u001b[0m \u001b[32m━━━━━━━━━━━━━━━━━━━━\u001b[0m\u001b[37m\u001b[0m \u001b[1m17s\u001b[0m 249ms/step - accuracy: 0.7133 - loss: 0.0954 - val_accuracy: 0.7414 - val_loss: 0.0968 - learning_rate: 1.0000e-05\n",
      "\n",
      "Epoch 43: LearningRateScheduler setting learning rate to 1e-05.\n",
      "Epoch 43/50\n",
      "\u001b[1m67/67\u001b[0m \u001b[32m━━━━━━━━━━━━━━━━━━━━\u001b[0m\u001b[37m\u001b[0m \u001b[1m17s\u001b[0m 254ms/step - accuracy: 0.7146 - loss: 0.0945 - val_accuracy: 0.7414 - val_loss: 0.0965 - learning_rate: 1.0000e-05\n",
      "\n",
      "Epoch 44: LearningRateScheduler setting learning rate to 1e-05.\n",
      "Epoch 44/50\n",
      "\u001b[1m67/67\u001b[0m \u001b[32m━━━━━━━━━━━━━━━━━━━━\u001b[0m\u001b[37m\u001b[0m \u001b[1m17s\u001b[0m 248ms/step - accuracy: 0.6949 - loss: 0.0962 - val_accuracy: 0.7414 - val_loss: 0.0959 - learning_rate: 1.0000e-05\n",
      "\n",
      "Epoch 45: LearningRateScheduler setting learning rate to 1e-05.\n",
      "Epoch 45/50\n",
      "\u001b[1m67/67\u001b[0m \u001b[32m━━━━━━━━━━━━━━━━━━━━\u001b[0m\u001b[37m\u001b[0m \u001b[1m17s\u001b[0m 250ms/step - accuracy: 0.7292 - loss: 0.0940 - val_accuracy: 0.7414 - val_loss: 0.0953 - learning_rate: 1.0000e-05\n",
      "\n",
      "Epoch 46: LearningRateScheduler setting learning rate to 1e-05.\n",
      "Epoch 46/50\n",
      "\u001b[1m67/67\u001b[0m \u001b[32m━━━━━━━━━━━━━━━━━━━━\u001b[0m\u001b[37m\u001b[0m \u001b[1m17s\u001b[0m 249ms/step - accuracy: 0.7122 - loss: 0.0950 - val_accuracy: 0.7414 - val_loss: 0.0949 - learning_rate: 1.0000e-05\n",
      "\n",
      "Epoch 47: LearningRateScheduler setting learning rate to 1e-05.\n",
      "Epoch 47/50\n",
      "\u001b[1m67/67\u001b[0m \u001b[32m━━━━━━━━━━━━━━━━━━━━\u001b[0m\u001b[37m\u001b[0m \u001b[1m17s\u001b[0m 245ms/step - accuracy: 0.7230 - loss: 0.0940 - val_accuracy: 0.7414 - val_loss: 0.0944 - learning_rate: 1.0000e-05\n",
      "\n",
      "Epoch 48: LearningRateScheduler setting learning rate to 1e-05.\n",
      "Epoch 48/50\n",
      "\u001b[1m67/67\u001b[0m \u001b[32m━━━━━━━━━━━━━━━━━━━━\u001b[0m\u001b[37m\u001b[0m \u001b[1m17s\u001b[0m 250ms/step - accuracy: 0.7213 - loss: 0.0931 - val_accuracy: 0.7414 - val_loss: 0.0940 - learning_rate: 1.0000e-05\n",
      "\n",
      "Epoch 49: LearningRateScheduler setting learning rate to 1e-05.\n",
      "Epoch 49/50\n",
      "\u001b[1m67/67\u001b[0m \u001b[32m━━━━━━━━━━━━━━━━━━━━\u001b[0m\u001b[37m\u001b[0m \u001b[1m17s\u001b[0m 248ms/step - accuracy: 0.7162 - loss: 0.0929 - val_accuracy: 0.7414 - val_loss: 0.0936 - learning_rate: 1.0000e-05\n",
      "\n",
      "Epoch 50: LearningRateScheduler setting learning rate to 1e-05.\n",
      "Epoch 50/50\n",
      "\u001b[1m67/67\u001b[0m \u001b[32m━━━━━━━━━━━━━━━━━━━━\u001b[0m\u001b[37m\u001b[0m \u001b[1m17s\u001b[0m 251ms/step - accuracy: 0.7006 - loss: 0.0933 - val_accuracy: 0.7414 - val_loss: 0.0932 - learning_rate: 1.0000e-05\n",
      "Model saved successfully!\n",
      "\u001b[1m4/4\u001b[0m \u001b[32m━━━━━━━━━━━━━━━━━━━━\u001b[0m\u001b[37m\u001b[0m \u001b[1m6s\u001b[0m 2s/step - accuracy: 0.8280 - loss: 0.0896\n",
      "Test Loss: 0.0839, Test Accuracy: 0.8095\n"
     ]
    }
   ],
   "source": [
    "from keras.callbacks import ModelCheckpoint, LearningRateScheduler, EarlyStopping, ReduceLROnPlateau\n",
    "\n",
    "model.compile(optimizer='adam', loss=focal_loss(alpha=[0.5, 0.3, 0.2], gamma=2.0), metrics=['accuracy'])\n",
    "\n",
    "\n",
    "early_stopping = EarlyStopping(monitor='val_loss', patience=5, restore_best_weights=True)\n",
    "lr_scheduler = ReduceLROnPlateau(monitor='val_loss', factor=0.5, patience=3, min_lr=1e-6, verbose=1)\n",
    "\n",
    "def lr_schedule(epoch, lr):\n",
    "    if epoch < 5:\n",
    "        return 5e-5  \n",
    "    elif epoch < 15:\n",
    "        return 1e-4 \n",
    "    elif epoch < 25:\n",
    "        return 5e-5  \n",
    "    return 1e-5  \n",
    "\n",
    "lr_warmup = LearningRateScheduler(lr_schedule, verbose=1)\n",
    "\n",
    "callbacks = [early_stopping, lr_warmup]  \n",
    "\n",
    "history = model.fit(\n",
    "    train_dataset,\n",
    "    validation_data=val_dataset,\n",
    "    epochs=50,\n",
    "    class_weight=class_weights,\n",
    "    callbacks=callbacks\n",
    ")\n",
    "\n",
    "model.save(\"/kaggle/working/frozen_model.h5\")\n",
    "print(\"Model saved successfully!\")\n",
    "\n",
    "test_loss, test_accuracy = model.evaluate(test_dataset)\n",
    "print(f\"Test Loss: {test_loss:.4f}, Test Accuracy: {test_accuracy:.4f}\")"
   ]
  },
  {
   "cell_type": "code",
   "execution_count": 15,
   "id": "9a1c5516",
   "metadata": {
    "execution": {
     "iopub.execute_input": "2025-05-25T14:40:53.461671Z",
     "iopub.status.busy": "2025-05-25T14:40:53.461260Z",
     "iopub.status.idle": "2025-05-25T14:40:53.859230Z",
     "shell.execute_reply": "2025-05-25T14:40:53.858416Z"
    },
    "papermill": {
     "duration": 0.568383,
     "end_time": "2025-05-25T14:40:53.860487",
     "exception": false,
     "start_time": "2025-05-25T14:40:53.292104",
     "status": "completed"
    },
    "tags": []
   },
   "outputs": [
    {
     "data": {
      "image/png": "[encoded data removed]",
      "text/plain": [
       "<Figure size 1200x500 with 2 Axes>"
      ]
     },
     "metadata": {},
     "output_type": "display_data"
    }
   ],
   "source": [
    "import matplotlib.pyplot as plt\n",
    "\n",
    "plt.figure(figsize=(12, 5))\n",
    "\n",
    "plt.subplot(1, 2, 1)\n",
    "plt.plot(history.history['loss'], label='Train Loss')\n",
    "plt.plot(history.history['val_loss'], label='Validation Loss')\n",
    "plt.title('Model Loss')\n",
    "plt.xlabel('Epoch')\n",
    "plt.ylabel('Loss')\n",
    "plt.legend(loc='upper right')\n",
    "\n",
    "plt.subplot(1, 2, 2)\n",
    "plt.plot(history.history['accuracy'], label='Train Accuracy')\n",
    "plt.plot(history.history['val_accuracy'], label='Validation Accuracy')\n",
    "plt.title('Model Accuracy')\n",
    "plt.xlabel('Epoch')\n",
    "plt.ylabel('Accuracy')\n",
    "plt.legend(loc='lower right')\n",
    "\n",
    "plt.show()"
   ]
  },
  {
   "cell_type": "code",
   "execution_count": 16,
   "id": "947d0d3d",
   "metadata": {
    "execution": {
     "iopub.execute_input": "2025-05-25T14:40:54.277881Z",
     "iopub.status.busy": "2025-05-25T14:40:54.277425Z",
     "iopub.status.idle": "2025-05-25T14:41:12.855548Z",
     "shell.execute_reply": "2025-05-25T14:41:12.854599Z"
    },
    "papermill": {
     "duration": 18.794025,
     "end_time": "2025-05-25T14:41:12.857190",
     "exception": false,
     "start_time": "2025-05-25T14:40:54.063165",
     "status": "completed"
    },
    "tags": []
   },
   "outputs": [
    {
     "name": "stdout",
     "output_type": "stream",
     "text": [
      "\u001b[1m4/4\u001b[0m \u001b[32m━━━━━━━━━━━━━━━━━━━━\u001b[0m\u001b[37m\u001b[0m \u001b[1m18s\u001b[0m 3s/step\n"
     ]
    },
    {
     "data": {
      "image/png": "[encoded data removed]",
      "text/plain": [
       "<Figure size 800x600 with 1 Axes>"
      ]
     },
     "metadata": {},
     "output_type": "display_data"
    }
   ],
   "source": [
    "from sklearn.metrics import roc_curve, auc\n",
    "import numpy as np\n",
    "\n",
    "y_pred = model.predict(test_dataset)\n",
    "y_pred = np.argmax(y_pred, axis=1)\n",
    "\n",
    "y_true = np.concatenate([y for x, y in test_dataset], axis=0)\n",
    "\n",
    "fpr = dict()\n",
    "tpr = dict()\n",
    "roc_auc = dict()\n",
    "\n",
    "for i in range(len(class_names)):\n",
    "    fpr[i], tpr[i], _ = roc_curve(y_true == i, y_pred == i)\n",
    "    roc_auc[i] = auc(fpr[i], tpr[i])\n",
    "\n",
    "plt.figure(figsize=(8, 6))\n",
    "for i in range(len(class_names)):\n",
    "    plt.plot(fpr[i], tpr[i], label=f'Class {class_names[i]} (AUC = {roc_auc[i]:.2f})')\n",
    "\n",
    "plt.plot([0, 1], [0, 1], 'k--', label='Random Guess')\n",
    "plt.xlabel('False Positive Rate')\n",
    "plt.ylabel('True Positive Rate')\n",
    "plt.title('ROC Curve')\n",
    "plt.legend(loc='lower right')\n",
    "plt.show()"
   ]
  },
  {
   "cell_type": "code",
   "execution_count": 17,
   "id": "721485fe",
   "metadata": {
    "execution": {
     "iopub.execute_input": "2025-05-25T14:41:13.256366Z",
     "iopub.status.busy": "2025-05-25T14:41:13.255961Z",
     "iopub.status.idle": "2025-05-25T14:41:13.490105Z",
     "shell.execute_reply": "2025-05-25T14:41:13.489087Z"
    },
    "papermill": {
     "duration": 0.421964,
     "end_time": "2025-05-25T14:41:13.491609",
     "exception": false,
     "start_time": "2025-05-25T14:41:13.069645",
     "status": "completed"
    },
    "tags": []
   },
   "outputs": [
    {
     "data": {
      "image/png": "[encoded data removed]",
      "text/plain": [
       "<Figure size 800x600 with 2 Axes>"
      ]
     },
     "metadata": {},
     "output_type": "display_data"
    },
    {
     "name": "stdout",
     "output_type": "stream",
     "text": [
      "Classification Report:\n",
      "                 precision    recall  f1-score   support\n",
      "\n",
      "      No cancer       0.67      0.91      0.77        22\n",
      "  breast cancer       0.85      0.55      0.67        20\n",
      "prostate cancer       1.00      0.95      0.98        21\n",
      "\n",
      "       accuracy                           0.81        63\n",
      "      macro avg       0.84      0.80      0.80        63\n",
      "   weighted avg       0.83      0.81      0.81        63\n",
      "\n",
      "Overall Accuracy: 0.8095\n",
      "Overall F1 Score: 0.8055\n"
     ]
    }
   ],
   "source": [
    "from sklearn.metrics import confusion_matrix\n",
    "import seaborn as sns\n",
    "\n",
    "cm = confusion_matrix(y_true, y_pred)\n",
    "\n",
    "plt.figure(figsize=(8, 6))\n",
    "sns.heatmap(cm, annot=True, fmt='d', cmap='Blues', xticklabels=class_names, yticklabels=class_names)\n",
    "plt.title('Confusion Matrix')\n",
    "plt.xlabel('Predicted Label')\n",
    "plt.ylabel('True Label')\n",
    "plt.show()\n",
    "\n",
    "from sklearn.metrics import classification_report, accuracy_score, f1_score\n",
    "\n",
    "\n",
    "report = classification_report(y_true, y_pred, target_names=class_names, output_dict=True)\n",
    "\n",
    "print(\"Classification Report:\")\n",
    "print(classification_report(y_true, y_pred, target_names=class_names))\n",
    "\n",
    "overall_accuracy = accuracy_score(y_true, y_pred)\n",
    "print(f\"Overall Accuracy: {overall_accuracy:.4f}\")\n",
    "\n",
    "overall_f1_score = f1_score(y_true, y_pred, average='weighted')\n",
    "print(f\"Overall F1 Score: {overall_f1_score:.4f}\")"
   ]
  }
 ],
 "metadata": {
  "kaggle": {
   "accelerator": "none",
   "dataSources": [
    {
     "datasetId": 2374070,
     "sourceId": 4002228,
     "sourceType": "datasetVersion"
    },
    {
     "datasetId": 6861206,
     "sourceId": 11019031,
     "sourceType": "datasetVersion"
    }
   ],
   "dockerImageVersionId": 30918,
   "isGpuEnabled": false,
   "isInternetEnabled": true,
   "language": "python",
   "sourceType": "notebook"
  },
  "kernelspec": {
   "display_name": "Python 3",
   "language": "python",
   "name": "python3"
  },
  "language_info": {
   "codemirror_mode": {
    "name": "ipython",
    "version": 3
   },
   "file_extension": ".py",
   "mimetype": "text/x-python",
   "name": "python",
   "nbconvert_exporter": "python",
   "pygments_lexer": "ipython3",
   "version": "3.10.12"
  },
  "papermill": {
   "default_parameters": {},
   "duration": 1000.42061,
   "end_time": "2025-05-25T14:41:16.960502",
   "environment_variables": {},
   "exception": null,
   "input_path": "__notebook__.ipynb",
   "output_path": "__notebook__.ipynb",
   "parameters": {},
   "start_time": "2025-05-25T14:24:36.539892",
   "version": "2.6.0"
  }
 },
 "nbformat": 4,
 "nbformat_minor": 5
}
